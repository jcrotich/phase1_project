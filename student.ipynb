{
 "cells": [
  {
   "cell_type": "code",
   "execution_count": 1,
   "metadata": {},
   "outputs": [
    {
     "name": "stderr",
     "output_type": "stream",
     "text": [
      "[NbConvertApp] Converting notebook student.ipynb to pdf\n",
      "Traceback (most recent call last):\n",
      "  File \"C:\\Users\\joyle\\anaconda3\\envs\\learn-env\\Scripts\\jupyter-nbconvert-script.py\", line 10, in <module>\n",
      "    sys.exit(main())\n",
      "  File \"C:\\Users\\joyle\\anaconda3\\envs\\learn-env\\lib\\site-packages\\jupyter_core\\application.py\", line 270, in launch_instance\n",
      "    return super(JupyterApp, cls).launch_instance(argv=argv, **kwargs)\n",
      "  File \"C:\\Users\\joyle\\anaconda3\\envs\\learn-env\\lib\\site-packages\\traitlets\\config\\application.py\", line 845, in launch_instance\n",
      "    app.start()\n",
      "  File \"C:\\Users\\joyle\\anaconda3\\envs\\learn-env\\lib\\site-packages\\nbconvert\\nbconvertapp.py\", line 350, in start\n",
      "    self.convert_notebooks()\n",
      "  File \"C:\\Users\\joyle\\anaconda3\\envs\\learn-env\\lib\\site-packages\\nbconvert\\nbconvertapp.py\", line 524, in convert_notebooks\n",
      "    self.convert_single_notebook(notebook_filename)\n",
      "  File \"C:\\Users\\joyle\\anaconda3\\envs\\learn-env\\lib\\site-packages\\nbconvert\\nbconvertapp.py\", line 489, in convert_single_notebook\n",
      "    output, resources = self.export_single_notebook(notebook_filename, resources, input_buffer=input_buffer)\n",
      "  File \"C:\\Users\\joyle\\anaconda3\\envs\\learn-env\\lib\\site-packages\\nbconvert\\nbconvertapp.py\", line 418, in export_single_notebook\n",
      "    output, resources = self.exporter.from_filename(notebook_filename, resources=resources)\n",
      "  File \"C:\\Users\\joyle\\anaconda3\\envs\\learn-env\\lib\\site-packages\\nbconvert\\exporters\\exporter.py\", line 181, in from_filename\n",
      "    return self.from_file(f, resources=resources, **kw)\n",
      "  File \"C:\\Users\\joyle\\anaconda3\\envs\\learn-env\\lib\\site-packages\\nbconvert\\exporters\\exporter.py\", line 199, in from_file\n",
      "    return self.from_notebook_node(nbformat.read(file_stream, as_version=4), resources=resources, **kw)\n",
      "  File \"C:\\Users\\joyle\\anaconda3\\envs\\learn-env\\lib\\site-packages\\nbconvert\\exporters\\pdf.py\", line 183, in from_notebook_node\n",
      "    self.run_latex(tex_file)\n",
      "  File \"C:\\Users\\joyle\\anaconda3\\envs\\learn-env\\lib\\site-packages\\nbconvert\\exporters\\pdf.py\", line 153, in run_latex\n",
      "    return self.run_command(self.latex_command, filename,\n",
      "  File \"C:\\Users\\joyle\\anaconda3\\envs\\learn-env\\lib\\site-packages\\nbconvert\\exporters\\pdf.py\", line 110, in run_command\n",
      "    raise OSError(\"{formatter} not found on PATH, if you have not installed \"\n",
      "OSError: xelatex not found on PATH, if you have not installed xelatex you may need to do so. Find further instructions at https://nbconvert.readthedocs.io/en/latest/install.html#installing-tex.\n"
     ]
    }
   ],
   "source": [
    "! jupyter nbconvert --to pdf student.ipynb  "
   ]
  },
  {
   "cell_type": "markdown",
   "metadata": {},
   "source": [
    "## Final Project Submission\n",
    "\n",
    "Please fill out:\n",
    "* Student name: Joyleen Cherono\n",
    "* Student pace: part time\n",
    "* Scheduled project review date/time: \n",
    "* Instructor name: 7th November 2023\n",
    "* Blog post URL: https://github.com/jcrotich/phase1_project\n"
   ]
  },
  {
   "cell_type": "code",
   "execution_count": 68,
   "metadata": {},
   "outputs": [],
   "source": [
    "# import packages \n",
    "import pandas as pd \n",
    "pd.set_option('display.float_format', lambda x: '%.2f' % x)\n",
    "pd.set_option('display.max_columns', None)\n",
    "pd.set_option('display.max_rows', None)\n",
    "import numpy as np\n",
    "import os\n",
    "import matplotlib.pyplot as plt\n",
    "import seaborn as sns\n",
    "sns.set()"
   ]
  },
  {
   "cell_type": "code",
   "execution_count": 5,
   "metadata": {},
   "outputs": [],
   "source": [
    "#load the csv files into pandas dataframes\n",
    "df_ratings=pd.read_csv('zippedData/imdb.title.ratings.csv.gz')\n",
    "df_basics=pd.read_csv('zippedData/imdb.title.basics.csv.gz')\n",
    "df_gross=pd.read_csv('zippedData/bom.movie_gross.csv.gz')"
   ]
  },
  {
   "cell_type": "markdown",
   "metadata": {},
   "source": [
    "### Explore ratings dataframe"
   ]
  },
  {
   "cell_type": "code",
   "execution_count": 6,
   "metadata": {},
   "outputs": [
    {
     "data": {
      "text/html": [
       "<div>\n",
       "<style scoped>\n",
       "    .dataframe tbody tr th:only-of-type {\n",
       "        vertical-align: middle;\n",
       "    }\n",
       "\n",
       "    .dataframe tbody tr th {\n",
       "        vertical-align: top;\n",
       "    }\n",
       "\n",
       "    .dataframe thead th {\n",
       "        text-align: right;\n",
       "    }\n",
       "</style>\n",
       "<table border=\"1\" class=\"dataframe\">\n",
       "  <thead>\n",
       "    <tr style=\"text-align: right;\">\n",
       "      <th></th>\n",
       "      <th>tconst</th>\n",
       "      <th>averagerating</th>\n",
       "      <th>numvotes</th>\n",
       "    </tr>\n",
       "  </thead>\n",
       "  <tbody>\n",
       "    <tr>\n",
       "      <th>0</th>\n",
       "      <td>tt10356526</td>\n",
       "      <td>8.3</td>\n",
       "      <td>31</td>\n",
       "    </tr>\n",
       "    <tr>\n",
       "      <th>1</th>\n",
       "      <td>tt10384606</td>\n",
       "      <td>8.9</td>\n",
       "      <td>559</td>\n",
       "    </tr>\n",
       "  </tbody>\n",
       "</table>\n",
       "</div>"
      ],
      "text/plain": [
       "       tconst  averagerating  numvotes\n",
       "0  tt10356526            8.3        31\n",
       "1  tt10384606            8.9       559"
      ]
     },
     "execution_count": 6,
     "metadata": {},
     "output_type": "execute_result"
    }
   ],
   "source": [
    "#first 2 rows\n",
    "df_ratings.head(2)"
   ]
  },
  {
   "cell_type": "code",
   "execution_count": 8,
   "metadata": {},
   "outputs": [
    {
     "name": "stdout",
     "output_type": "stream",
     "text": [
      "Ratings file has 73856 rows and 3 columns.\n"
     ]
    }
   ],
   "source": [
    "# number of rows and columns\n",
    "print(f\"Ratings file has {df_ratings.shape[0]} rows and {df_ratings.shape[1]} columns.\")"
   ]
  },
  {
   "cell_type": "code",
   "execution_count": 9,
   "metadata": {},
   "outputs": [
    {
     "data": {
      "text/plain": [
       "tconst            object\n",
       "averagerating    float64\n",
       "numvotes           int64\n",
       "dtype: object"
      ]
     },
     "execution_count": 9,
     "metadata": {},
     "output_type": "execute_result"
    }
   ],
   "source": [
    "#data types\n",
    "df_ratings.dtypes"
   ]
  },
  {
   "cell_type": "code",
   "execution_count": 10,
   "metadata": {},
   "outputs": [
    {
     "data": {
      "text/plain": [
       "tconst           0\n",
       "averagerating    0\n",
       "numvotes         0\n",
       "dtype: int64"
      ]
     },
     "execution_count": 10,
     "metadata": {},
     "output_type": "execute_result"
    }
   ],
   "source": [
    "#missing records in ratings dataframe\n",
    "df_ratings.isnull().sum()"
   ]
  },
  {
   "cell_type": "markdown",
   "metadata": {},
   "source": [
    " - There are no missing records in ratings file"
   ]
  },
  {
   "cell_type": "markdown",
   "metadata": {},
   "source": [
    "### Explore basics dataframe"
   ]
  },
  {
   "cell_type": "code",
   "execution_count": 22,
   "metadata": {},
   "outputs": [
    {
     "data": {
      "text/html": [
       "<div>\n",
       "<style scoped>\n",
       "    .dataframe tbody tr th:only-of-type {\n",
       "        vertical-align: middle;\n",
       "    }\n",
       "\n",
       "    .dataframe tbody tr th {\n",
       "        vertical-align: top;\n",
       "    }\n",
       "\n",
       "    .dataframe thead th {\n",
       "        text-align: right;\n",
       "    }\n",
       "</style>\n",
       "<table border=\"1\" class=\"dataframe\">\n",
       "  <thead>\n",
       "    <tr style=\"text-align: right;\">\n",
       "      <th></th>\n",
       "      <th>tconst</th>\n",
       "      <th>primary_title</th>\n",
       "      <th>original_title</th>\n",
       "      <th>start_year</th>\n",
       "      <th>runtime_minutes</th>\n",
       "      <th>genres</th>\n",
       "    </tr>\n",
       "  </thead>\n",
       "  <tbody>\n",
       "    <tr>\n",
       "      <th>0</th>\n",
       "      <td>tt0063540</td>\n",
       "      <td>Sunghursh</td>\n",
       "      <td>Sunghursh</td>\n",
       "      <td>2013</td>\n",
       "      <td>175.0</td>\n",
       "      <td>Action,Crime,Drama</td>\n",
       "    </tr>\n",
       "    <tr>\n",
       "      <th>1</th>\n",
       "      <td>tt0066787</td>\n",
       "      <td>One Day Before the Rainy Season</td>\n",
       "      <td>Ashad Ka Ek Din</td>\n",
       "      <td>2019</td>\n",
       "      <td>114.0</td>\n",
       "      <td>Biography,Drama</td>\n",
       "    </tr>\n",
       "  </tbody>\n",
       "</table>\n",
       "</div>"
      ],
      "text/plain": [
       "      tconst                    primary_title   original_title  start_year  \\\n",
       "0  tt0063540                        Sunghursh        Sunghursh        2013   \n",
       "1  tt0066787  One Day Before the Rainy Season  Ashad Ka Ek Din        2019   \n",
       "\n",
       "   runtime_minutes              genres  \n",
       "0            175.0  Action,Crime,Drama  \n",
       "1            114.0     Biography,Drama  "
      ]
     },
     "execution_count": 22,
     "metadata": {},
     "output_type": "execute_result"
    }
   ],
   "source": [
    "#first two rows\n",
    "df_basics.head(2)"
   ]
  },
  {
   "cell_type": "code",
   "execution_count": 12,
   "metadata": {},
   "outputs": [
    {
     "name": "stdout",
     "output_type": "stream",
     "text": [
      "Basics file has 146144 rows and 6 columns.\n"
     ]
    }
   ],
   "source": [
    "# number of records in basics file\n",
    "print(f\"Basics file has {df_basics.shape[0]} rows and {df_basics.shape[1]} columns.\")"
   ]
  },
  {
   "cell_type": "code",
   "execution_count": 15,
   "metadata": {},
   "outputs": [
    {
     "data": {
      "text/plain": [
       "tconst              0.000000\n",
       "primary_title       0.000000\n",
       "original_title      0.014369\n",
       "start_year          0.000000\n",
       "runtime_minutes    21.717621\n",
       "genres              3.700460\n",
       "dtype: float64"
      ]
     },
     "execution_count": 15,
     "metadata": {},
     "output_type": "execute_result"
    }
   ],
   "source": [
    "#missing records in basics file\n",
    "df_basics.isnull().sum()/df_basics.shape[0]*100"
   ]
  },
  {
   "cell_type": "markdown",
   "metadata": {},
   "source": [
    "- runtime_minutes column has 21.7% missing records.\n",
    "- 3.7% of records miss genres info."
   ]
  },
  {
   "cell_type": "markdown",
   "metadata": {},
   "source": [
    "### Explore gross file"
   ]
  },
  {
   "cell_type": "code",
   "execution_count": 16,
   "metadata": {},
   "outputs": [
    {
     "data": {
      "text/html": [
       "<div>\n",
       "<style scoped>\n",
       "    .dataframe tbody tr th:only-of-type {\n",
       "        vertical-align: middle;\n",
       "    }\n",
       "\n",
       "    .dataframe tbody tr th {\n",
       "        vertical-align: top;\n",
       "    }\n",
       "\n",
       "    .dataframe thead th {\n",
       "        text-align: right;\n",
       "    }\n",
       "</style>\n",
       "<table border=\"1\" class=\"dataframe\">\n",
       "  <thead>\n",
       "    <tr style=\"text-align: right;\">\n",
       "      <th></th>\n",
       "      <th>title</th>\n",
       "      <th>studio</th>\n",
       "      <th>domestic_gross</th>\n",
       "      <th>foreign_gross</th>\n",
       "      <th>year</th>\n",
       "    </tr>\n",
       "  </thead>\n",
       "  <tbody>\n",
       "    <tr>\n",
       "      <th>0</th>\n",
       "      <td>Toy Story 3</td>\n",
       "      <td>BV</td>\n",
       "      <td>415000000.0</td>\n",
       "      <td>652000000</td>\n",
       "      <td>2010</td>\n",
       "    </tr>\n",
       "    <tr>\n",
       "      <th>1</th>\n",
       "      <td>Alice in Wonderland (2010)</td>\n",
       "      <td>BV</td>\n",
       "      <td>334200000.0</td>\n",
       "      <td>691300000</td>\n",
       "      <td>2010</td>\n",
       "    </tr>\n",
       "  </tbody>\n",
       "</table>\n",
       "</div>"
      ],
      "text/plain": [
       "                        title studio  domestic_gross foreign_gross  year\n",
       "0                 Toy Story 3     BV     415000000.0     652000000  2010\n",
       "1  Alice in Wonderland (2010)     BV     334200000.0     691300000  2010"
      ]
     },
     "execution_count": 16,
     "metadata": {},
     "output_type": "execute_result"
    }
   ],
   "source": [
    "# first two rows\n",
    "df_gross.head(2)"
   ]
  },
  {
   "cell_type": "code",
   "execution_count": 17,
   "metadata": {},
   "outputs": [
    {
     "name": "stdout",
     "output_type": "stream",
     "text": [
      "Gross file has 3387 rows and 5 columns.\n"
     ]
    }
   ],
   "source": [
    "#number of records in gross file\n",
    "print(f\"Gross file has {df_gross.shape[0]} rows and {df_gross.shape[1]} columns.\")"
   ]
  },
  {
   "cell_type": "code",
   "execution_count": 20,
   "metadata": {},
   "outputs": [
    {
     "data": {
      "text/plain": [
       "title              0.000000\n",
       "studio             0.147623\n",
       "domestic_gross     0.826690\n",
       "foreign_gross     39.858282\n",
       "year               0.000000\n",
       "dtype: float64"
      ]
     },
     "execution_count": 20,
     "metadata": {},
     "output_type": "execute_result"
    }
   ],
   "source": [
    "#number of missing records\n",
    "df_gross.isnull().sum()/df_gross.shape[0]*100"
   ]
  },
  {
   "cell_type": "markdown",
   "metadata": {},
   "source": [
    "- foreign_gross column has 39.8% missing records. "
   ]
  },
  {
   "cell_type": "markdown",
   "metadata": {},
   "source": [
    "#### Merge the three sets together"
   ]
  },
  {
   "cell_type": "code",
   "execution_count": 28,
   "metadata": {},
   "outputs": [
    {
     "data": {
      "text/html": [
       "<div>\n",
       "<style scoped>\n",
       "    .dataframe tbody tr th:only-of-type {\n",
       "        vertical-align: middle;\n",
       "    }\n",
       "\n",
       "    .dataframe tbody tr th {\n",
       "        vertical-align: top;\n",
       "    }\n",
       "\n",
       "    .dataframe thead th {\n",
       "        text-align: right;\n",
       "    }\n",
       "</style>\n",
       "<table border=\"1\" class=\"dataframe\">\n",
       "  <thead>\n",
       "    <tr style=\"text-align: right;\">\n",
       "      <th></th>\n",
       "      <th>tconst</th>\n",
       "      <th>primary_title</th>\n",
       "      <th>original_title</th>\n",
       "      <th>start_year</th>\n",
       "      <th>runtime_minutes</th>\n",
       "      <th>genres</th>\n",
       "      <th>averagerating</th>\n",
       "      <th>numvotes</th>\n",
       "      <th>title</th>\n",
       "      <th>studio</th>\n",
       "      <th>domestic_gross</th>\n",
       "      <th>foreign_gross</th>\n",
       "      <th>year</th>\n",
       "    </tr>\n",
       "  </thead>\n",
       "  <tbody>\n",
       "    <tr>\n",
       "      <th>0</th>\n",
       "      <td>tt0315642</td>\n",
       "      <td>Wazir</td>\n",
       "      <td>Wazir</td>\n",
       "      <td>2016</td>\n",
       "      <td>103.0</td>\n",
       "      <td>Action,Crime,Drama</td>\n",
       "      <td>7.1</td>\n",
       "      <td>15378</td>\n",
       "      <td>Wazir</td>\n",
       "      <td>Relbig.</td>\n",
       "      <td>1100000.0</td>\n",
       "      <td>NaN</td>\n",
       "      <td>2016</td>\n",
       "    </tr>\n",
       "    <tr>\n",
       "      <th>1</th>\n",
       "      <td>tt0337692</td>\n",
       "      <td>On the Road</td>\n",
       "      <td>On the Road</td>\n",
       "      <td>2012</td>\n",
       "      <td>124.0</td>\n",
       "      <td>Adventure,Drama,Romance</td>\n",
       "      <td>6.1</td>\n",
       "      <td>37886</td>\n",
       "      <td>On the Road</td>\n",
       "      <td>IFC</td>\n",
       "      <td>744000.0</td>\n",
       "      <td>8000000</td>\n",
       "      <td>2012</td>\n",
       "    </tr>\n",
       "  </tbody>\n",
       "</table>\n",
       "</div>"
      ],
      "text/plain": [
       "      tconst primary_title original_title  start_year  runtime_minutes  \\\n",
       "0  tt0315642         Wazir          Wazir        2016            103.0   \n",
       "1  tt0337692   On the Road    On the Road        2012            124.0   \n",
       "\n",
       "                    genres  averagerating  numvotes        title   studio  \\\n",
       "0       Action,Crime,Drama            7.1     15378        Wazir  Relbig.   \n",
       "1  Adventure,Drama,Romance            6.1     37886  On the Road      IFC   \n",
       "\n",
       "   domestic_gross foreign_gross  year  \n",
       "0       1100000.0           NaN  2016  \n",
       "1        744000.0       8000000  2012  "
      ]
     },
     "execution_count": 28,
     "metadata": {},
     "output_type": "execute_result"
    }
   ],
   "source": [
    "#first merge basics and ratings files\n",
    "data_ = df_basics.merge(df_ratings,how='inner', on='tconst')\n",
    "#then merge with gross file\n",
    "data=data_.merge(df_gross,how='inner', left_on='primary_title',right_on='title')\n",
    "#view the first two records\n",
    "data.head(2)"
   ]
  },
  {
   "cell_type": "code",
   "execution_count": 42,
   "metadata": {},
   "outputs": [],
   "source": [
    "data['main_genre'] = data.genres.str.split(',').str[0]"
   ]
  },
  {
   "cell_type": "code",
   "execution_count": 31,
   "metadata": {},
   "outputs": [
    {
     "name": "stdout",
     "output_type": "stream",
     "text": [
      "Merged file has 3027 rows and 13 columns.\n"
     ]
    }
   ],
   "source": [
    "# number of records\n",
    "print(f\"Merged file has {data.shape[0]} rows and {data.shape[1]} columns.\")"
   ]
  },
  {
   "cell_type": "code",
   "execution_count": 50,
   "metadata": {},
   "outputs": [
    {
     "data": {
      "text/plain": [
       "tconst              object\n",
       "primary_title       object\n",
       "original_title      object\n",
       "start_year           int64\n",
       "runtime_minutes    float64\n",
       "genres              object\n",
       "averagerating      float64\n",
       "numvotes             int64\n",
       "title               object\n",
       "studio              object\n",
       "domestic_gross     float64\n",
       "foreign_gross       object\n",
       "year                 int64\n",
       "main_genre          object\n",
       "dtype: object"
      ]
     },
     "execution_count": 50,
     "metadata": {},
     "output_type": "execute_result"
    }
   ],
   "source": [
    "#data types\n",
    "data.dtypes"
   ]
  },
  {
   "cell_type": "code",
   "execution_count": 56,
   "metadata": {},
   "outputs": [],
   "source": [
    "#convert foreign_gross column to numeric data type, first we remove , from values\n",
    "data.foreign_gross = data.foreign_gross.str.replace(',','')\n",
    "data.foreign_gross = pd.to_numeric(data.foreign_gross)"
   ]
  },
  {
   "cell_type": "code",
   "execution_count": 34,
   "metadata": {},
   "outputs": [
    {
     "data": {
      "text/plain": [
       "tconst              0.000000\n",
       "primary_title       0.000000\n",
       "original_title      0.000000\n",
       "start_year          0.000000\n",
       "runtime_minutes     1.552692\n",
       "genres              0.231252\n",
       "averagerating       0.000000\n",
       "numvotes            0.000000\n",
       "title               0.000000\n",
       "studio              0.099108\n",
       "domestic_gross      0.726792\n",
       "foreign_gross      39.478031\n",
       "year                0.000000\n",
       "dtype: float64"
      ]
     },
     "execution_count": 34,
     "metadata": {},
     "output_type": "execute_result"
    }
   ],
   "source": [
    "# missing records\n",
    "data.isnull().sum()/data.shape[0]*100"
   ]
  },
  {
   "cell_type": "code",
   "execution_count": 49,
   "metadata": {},
   "outputs": [
    {
     "data": {
      "text/plain": [
       "0          NaN\n",
       "1      8000000\n",
       "2      8000000\n",
       "3      8000000\n",
       "4    129900000\n",
       "Name: foreign_gross, dtype: object"
      ]
     },
     "execution_count": 49,
     "metadata": {},
     "output_type": "execute_result"
    }
   ],
   "source": [
    "data.foreign_gross.head()"
   ]
  },
  {
   "cell_type": "code",
   "execution_count": 59,
   "metadata": {},
   "outputs": [
    {
     "data": {
      "text/plain": [
       "main_genre\n",
       "Sci-Fi        206339000.00\n",
       "Family         74367800.00\n",
       "Adventure      72949390.13\n",
       "Action         59453505.93\n",
       "Fantasy        36820853.85\n",
       "Mystery        34423700.00\n",
       "Horror         32867244.95\n",
       "Animation      28954575.00\n",
       "Comedy         19815406.19\n",
       "Biography      19662951.78\n",
       "Thriller       19366057.69\n",
       "Crime          17272307.97\n",
       "Documentary    15115806.99\n",
       "Drama          12243930.91\n",
       "Romance         7245255.56\n",
       "Sport           5300000.00\n",
       "Music           3400000.00\n",
       "Name: domestic_gross, dtype: float64"
      ]
     },
     "execution_count": 59,
     "metadata": {},
     "output_type": "execute_result"
    }
   ],
   "source": [
    "# view domestic revenue per genre\n",
    "data.groupby('main_genre').domestic_gross.mean().sort_values(ascending=False)"
   ]
  },
  {
   "cell_type": "markdown",
   "metadata": {},
   "source": [
    "- From the above, Sci Fi genre generates the most domestic gross"
   ]
  },
  {
   "cell_type": "markdown",
   "metadata": {},
   "source": [
    "### view foreign revenue per genre\n"
   ]
  },
  {
   "cell_type": "code",
   "execution_count": null,
   "metadata": {},
   "outputs": [],
   "source": [
    "data."
   ]
  },
  {
   "cell_type": "code",
   "execution_count": 60,
   "metadata": {},
   "outputs": [
    {
     "data": {
      "text/plain": [
       "main_genre\n",
       "Sci-Fi        409300000.00\n",
       "Adventure     170089320.11\n",
       "Action        145366903.32\n",
       "Family        137550000.00\n",
       "Fantasy       110444444.44\n",
       "Animation      95713826.04\n",
       "Mystery        59271428.43\n",
       "Horror         56150003.75\n",
       "Thriller       53164450.00\n",
       "Romance        40155250.00\n",
       "Biography      40023336.23\n",
       "Documentary    37150965.28\n",
       "Comedy         32552011.20\n",
       "Drama          32491679.67\n",
       "Crime          31102086.73\n",
       "Music           4600000.00\n",
       "Sport                  nan\n",
       "Name: foreign_gross, dtype: float64"
      ]
     },
     "execution_count": 60,
     "metadata": {},
     "output_type": "execute_result"
    }
   ],
   "source": [
    "data.groupby('main_genre').foreign_gross.mean().sort_values(ascending=False)"
   ]
  },
  {
   "cell_type": "markdown",
   "metadata": {},
   "source": [
    "-Also, the Sci Fi genre generates the most Foreign gross compared to the rest of the genres. Music and Sport generate the list foreign and domestic gross."
   ]
  },
  {
   "cell_type": "code",
   "execution_count": 61,
   "metadata": {},
   "outputs": [
    {
     "data": {
      "text/plain": [
       "main_genre\n",
       "Mystery       202139.30\n",
       "Action        121994.90\n",
       "Adventure      99720.23\n",
       "Crime          61605.36\n",
       "Biography      57793.11\n",
       "Horror         55802.26\n",
       "Comedy         42527.83\n",
       "Animation      42361.56\n",
       "Drama          33834.26\n",
       "Romance        29307.78\n",
       "Fantasy        16881.92\n",
       "Music          15592.00\n",
       "Documentary     4131.91\n",
       "Thriller        1999.04\n",
       "Sci-Fi          1760.50\n",
       "Sport             77.00\n",
       "Family            36.00\n",
       "Name: numvotes, dtype: float64"
      ]
     },
     "execution_count": 61,
     "metadata": {},
     "output_type": "execute_result"
    }
   ],
   "source": [
    "# view number of votes per genre\n",
    "data.groupby('main_genre').numvotes.mean().sort_values(ascending=False)"
   ]
  },
  {
   "cell_type": "markdown",
   "metadata": {},
   "source": [
    "mystery genre has the most average number of votes compared to the other genres. This has the most number of views also."
   ]
  },
  {
   "cell_type": "code",
   "execution_count": 62,
   "metadata": {},
   "outputs": [
    {
     "data": {
      "text/plain": [
       "0    Relbig.\n",
       "1        IFC\n",
       "2        IFC\n",
       "3        IFC\n",
       "4        Fox\n",
       "Name: studio, dtype: object"
      ]
     },
     "execution_count": 62,
     "metadata": {},
     "output_type": "execute_result"
    }
   ],
   "source": [
    "data.studio.head()"
   ]
  },
  {
   "cell_type": "code",
   "execution_count": 63,
   "metadata": {},
   "outputs": [
    {
     "data": {
      "text/plain": [
       "main_genre\n",
       "Action        115.50\n",
       "Sport         114.00\n",
       "Crime         111.78\n",
       "Biography     111.63\n",
       "Mystery       111.50\n",
       "Romance       110.62\n",
       "Drama         107.59\n",
       "Fantasy       106.62\n",
       "Comedy        105.41\n",
       "Adventure     103.47\n",
       "Thriller       97.17\n",
       "Animation      95.40\n",
       "Horror         93.94\n",
       "Music          93.00\n",
       "Documentary    87.38\n",
       "Family         80.33\n",
       "Sci-Fi         74.50\n",
       "Name: runtime_minutes, dtype: float64"
      ]
     },
     "execution_count": 63,
     "metadata": {},
     "output_type": "execute_result"
    }
   ],
   "source": [
    "# view number of votes per genre\n",
    "data.groupby('main_genre').runtime_minutes.mean().sort_values(ascending=False)"
   ]
  },
  {
   "cell_type": "markdown",
   "metadata": {},
   "source": [
    "Action has the most number of run time minutes , while Sci Fi genres are seen to have the least average run time."
   ]
  },
  {
   "cell_type": "code",
   "execution_count": 64,
   "metadata": {},
   "outputs": [
    {
     "data": {
      "text/plain": [
       "studio\n",
       "BV            175240206.18\n",
       "P/DW          168290000.00\n",
       "WB             89799159.66\n",
       "Uni.           88406397.44\n",
       "WB (NL)        83983333.31\n",
       "MGM            83000000.00\n",
       "Par.           82253474.43\n",
       "Sony           79444971.56\n",
       "Fox            79386231.87\n",
       "Sum.           48820611.11\n",
       "SGem           45471875.00\n",
       "TriS           44390909.09\n",
       "LG/S           41716216.19\n",
       "LGF            41148337.78\n",
       "Studio 8       32925000.00\n",
       "Rela.          31619161.29\n",
       "STX            30547826.09\n",
       "FD             25020400.00\n",
       "ORF            21346153.85\n",
       "CBS            21307692.31\n",
       "W/Dim.         20708770.00\n",
       "Wein.          20666409.83\n",
       "GrtIndia       20200000.00\n",
       "Focus          19739354.84\n",
       "Annapurna      19142857.14\n",
       "ENTMP          17350000.00\n",
       "FoxS           15179629.87\n",
       "PFR            13000000.00\n",
       "CE             11850000.00\n",
       "Affirm         11700000.00\n",
       "Imax           11550000.00\n",
       "Global Road    11400000.00\n",
       "Over.          11240333.33\n",
       "Neon           11077000.00\n",
       "BH Tilt         9500000.00\n",
       "Free            7643687.50\n",
       "Mira.           7158500.00\n",
       "Good Deed       6700000.00\n",
       "BSC             6700000.00\n",
       "EC              6606150.00\n",
       "A24             6216973.33\n",
       "BST             6182999.90\n",
       "3D              6100000.00\n",
       "NGE             4693833.33\n",
       "BG              4428771.43\n",
       "RAtt.           4321400.00\n",
       "Trafalgar       4200000.00\n",
       "CineGalaxy      3900000.00\n",
       "SPC             3840594.54\n",
       "ParV            3700000.00\n",
       "PDA             3620000.00\n",
       "App.            3600000.00\n",
       "U/P             3500000.00\n",
       "Rog.            3200000.00\n",
       "VPD             3056050.00\n",
       "Yash            3017107.69\n",
       "PNT             2840000.00\n",
       "Viv.            2800000.00\n",
       "NM              2700000.00\n",
       "HC              2700000.00\n",
       "LD              2600000.00\n",
       "SV              2600000.00\n",
       "Saban           2400000.00\n",
       "ELS             2300000.00\n",
       "FUN             2258600.00\n",
       "PH              2200000.00\n",
       "Amazon          2133333.33\n",
       "CLF             2000000.00\n",
       "Fathom          1997000.00\n",
       "RTWC            1713784.21\n",
       "Electric        1713550.00\n",
       "Aviron          1600000.00\n",
       "FIP             1555289.47\n",
       "CF&SR           1500000.00\n",
       "Relbig.         1474500.00\n",
       "UTV             1417489.36\n",
       "OMNI/FSR        1200000.00\n",
       "RLJ             1200000.00\n",
       "Triu            1200000.00\n",
       "Zee             1100000.00\n",
       "SMod            1100000.00\n",
       "Eros             976932.88\n",
       "Gaatri           898000.00\n",
       "TVC              850000.00\n",
       "MNE              826320.00\n",
       "Orch.            784157.14\n",
       "MBox             774118.75\n",
       "Elev.            726250.00\n",
       "IFC              718083.44\n",
       "Osci.            710790.91\n",
       "Jan.             678500.00\n",
       "Greenwich        673750.00\n",
       "FEF              613000.00\n",
       "Cohen            592366.67\n",
       "Gold.            583340.00\n",
       "EOne             579095.24\n",
       "Abr.             571757.14\n",
       "IM               569666.67\n",
       "Men.             556100.00\n",
       "KKM              555000.00\n",
       "PackYourBag      541500.00\n",
       "SD               540733.33\n",
       "GK               485311.76\n",
       "JBG              467000.00\n",
       "AF               455700.00\n",
       "Magn.            429838.46\n",
       "SHO              426000.00\n",
       "Ampl.            413075.00\n",
       "WGUSA            410787.76\n",
       "VE               352478.57\n",
       "AR               350000.00\n",
       "Asp.             347000.00\n",
       "Orion            336000.00\n",
       "PM&E             321000.00\n",
       "EXCL             319000.00\n",
       "KC               312000.00\n",
       "Proud            310000.00\n",
       "Drft.            306066.67\n",
       "FInd.            303000.00\n",
       "ATO              301400.00\n",
       "Abk.             294000.00\n",
       "Rel.             277500.00\n",
       "CJ               277445.45\n",
       "Cdgm.            267333.33\n",
       "CL               248930.23\n",
       "WHE              243333.33\n",
       "FCW              242772.73\n",
       "AM               237000.00\n",
       "FR               236470.00\n",
       "Alc              223566.67\n",
       "Kino             219750.00\n",
       "Vita.            219450.00\n",
       "MPI              206000.00\n",
       "Arth.            188000.00\n",
       "Zeit.            186806.25\n",
       "Hann.            184000.00\n",
       "BM&DH            166000.00\n",
       "SM               152600.00\n",
       "NYer             126000.00\n",
       "HTR              125000.00\n",
       "ADC              124100.00\n",
       "Vari.            124060.00\n",
       "Grav.            122420.00\n",
       "MUBI             117000.00\n",
       "XL               117000.00\n",
       "P/108            116100.00\n",
       "AZ               116000.00\n",
       "FOAK             107000.00\n",
       "Trib.            104687.50\n",
       "MPFT             103000.00\n",
       "Imag.             98166.67\n",
       "KE                97066.67\n",
       "CFI               96000.00\n",
       "Anch.             92823.08\n",
       "UEP               92700.00\n",
       "Blue Fox          91000.00\n",
       "CGld              90523.08\n",
       "Scre.             89571.43\n",
       "B360              87900.00\n",
       "SEG               83600.00\n",
       "Cleopatra         82700.00\n",
       "A23               82100.00\n",
       "Pala.             81900.00\n",
       "KL                79400.00\n",
       "BWP               73400.00\n",
       "WAMCR             72600.00\n",
       "Rialto            70750.00\n",
       "UTMW              62500.00\n",
       "Icar.             61666.67\n",
       "FM                60725.62\n",
       "Strand            57890.74\n",
       "Dreamwest         57800.00\n",
       "Crimson           54200.00\n",
       "Super             52100.00\n",
       "SDS               50200.00\n",
       "Lorb.             49900.00\n",
       "TA                49700.00\n",
       "TFA               47259.80\n",
       "P4                47250.00\n",
       "BBC               44400.00\n",
       "LGP               44157.14\n",
       "ITL               41100.00\n",
       "DF                40600.00\n",
       "OutF              39750.00\n",
       "BGP               38100.00\n",
       "Linn              35800.00\n",
       "Mont.             34271.43\n",
       "CLS               33850.00\n",
       "Rocket            32800.00\n",
       "Distrib.          32744.44\n",
       "WOW               30800.00\n",
       "ICir              29300.00\n",
       "Ghop              28350.00\n",
       "NAV               26300.00\n",
       "CAVU              25300.00\n",
       "EF                22800.00\n",
       "FRun              22700.00\n",
       "Arrow             21000.00\n",
       "RME               19500.00\n",
       "Outs              18000.00\n",
       "Da.               17700.00\n",
       "MR                17475.00\n",
       "AGF               15800.00\n",
       "MOM               14800.00\n",
       "RF                13000.00\n",
       "EpicPics          11300.00\n",
       "FOR               10200.00\n",
       "Grindstone        10000.00\n",
       "Crnth              8366.67\n",
       "KS                 5900.00\n",
       "TAFC               4600.00\n",
       "ALP                2800.00\n",
       "First              2000.00\n",
       "Shout!             1500.00\n",
       "DR                  800.00\n",
       "PI                     nan\n",
       "Name: domestic_gross, dtype: float64"
      ]
     },
     "execution_count": 64,
     "metadata": {},
     "output_type": "execute_result"
    }
   ],
   "source": [
    "# view average domestic revenue per studio\n",
    "data.groupby('studio').domestic_gross.mean().sort_values(ascending=False)"
   ]
  },
  {
   "cell_type": "markdown",
   "metadata": {},
   "source": [
    "for any movie produced, BV and P/DW studio have generated the most amount of domestic gross value."
   ]
  },
  {
   "cell_type": "code",
   "execution_count": 65,
   "metadata": {},
   "outputs": [
    {
     "data": {
      "text/plain": [
       "studio\n",
       "Uni.           156\n",
       "IFC            145\n",
       "Fox            138\n",
       "WB             119\n",
       "Magn.          117\n",
       "SPC            110\n",
       "BV              97\n",
       "LGF             91\n",
       "Par.            90\n",
       "Sony            89\n",
       "Wein.           81\n",
       "FoxS            79\n",
       "Eros            76\n",
       "RAtt.           68\n",
       "Focus           62\n",
       "WB (NL)         54\n",
       "Strand          54\n",
       "KL              53\n",
       "WGUSA           49\n",
       "MBox            48\n",
       "UTV             48\n",
       "A24             45\n",
       "CJ              44\n",
       "CL              43\n",
       "FM              39\n",
       "ORF             39\n",
       "LG/S            37\n",
       "Cohen           36\n",
       "SGem            32\n",
       "Rela.           31\n",
       "STX             23\n",
       "Osci.           22\n",
       "TriS            22\n",
       "RTWC            21\n",
       "Drft.           21\n",
       "EOne            21\n",
       "BG              21\n",
       "BST             20\n",
       "Gold.           20\n",
       "MNE             20\n",
       "FIP             19\n",
       "Sum.            18\n",
       "GK              17\n",
       "Relbig.         16\n",
       "Zeit.           16\n",
       "Trib.           16\n",
       "Orch.           14\n",
       "VE              14\n",
       "CGld            13\n",
       "Yash            13\n",
       "CBS             13\n",
       "Anch.           13\n",
       "W/Dim.          12\n",
       "FCW             11\n",
       "FUN             10\n",
       "P/DW            10\n",
       "FR              10\n",
       "FD              10\n",
       "Vari.           10\n",
       "LGP             10\n",
       "Distrib.         9\n",
       "Free             8\n",
       "ENTMP            8\n",
       "FRun             8\n",
       "Scre.            8\n",
       "Cdgm.            7\n",
       "BH Tilt          7\n",
       "Abr.             7\n",
       "AF               7\n",
       "Mont.            7\n",
       "Annapurna        7\n",
       "PFR              6\n",
       "NGE              6\n",
       "Vita.            6\n",
       "Over.            6\n",
       "Jan.             6\n",
       "ATO              5\n",
       "Grav.            5\n",
       "Imag.            5\n",
       "SM               5\n",
       "LD               5\n",
       "PDA              5\n",
       "PNT              5\n",
       "TFA              5\n",
       "VPD              4\n",
       "MR               4\n",
       "DR               4\n",
       "Studio 8         4\n",
       "Lorb.            4\n",
       "WHE              4\n",
       "EC               4\n",
       "Elev.            4\n",
       "Greenwich        4\n",
       "Mira.            4\n",
       "Ampl.            4\n",
       "UTMW             4\n",
       "Global Road      3\n",
       "IM               3\n",
       "Icar.            3\n",
       "Hann.            3\n",
       "Alc              3\n",
       "BWP              3\n",
       "Crnth            3\n",
       "Amazon           3\n",
       "KE               3\n",
       "ParV             3\n",
       "SD               3\n",
       "Neon             3\n",
       "P4               2\n",
       "Orion            2\n",
       "OutF             2\n",
       "Fathom           2\n",
       "P/108            2\n",
       "PH               2\n",
       "BBC              2\n",
       "PM&E             2\n",
       "PackYourBag      2\n",
       "BM&DH            2\n",
       "Shout!           2\n",
       "Electric         2\n",
       "RF               2\n",
       "RLJ              2\n",
       "Rel.             2\n",
       "Kino             2\n",
       "Rialto           2\n",
       "Da.              2\n",
       "CE               2\n",
       "SDS              2\n",
       "CLS              2\n",
       "Arth.            2\n",
       "CLF              2\n",
       "WAMCR            2\n",
       "Imax             2\n",
       "App.             2\n",
       "A23              2\n",
       "Ghop             2\n",
       "ADC              2\n",
       "Men.             2\n",
       "ALP              2\n",
       "Affirm           2\n",
       "MGM              2\n",
       "Saban            1\n",
       "Blue Fox         1\n",
       "CAVU             1\n",
       "Arrow            1\n",
       "AGF              1\n",
       "SV               1\n",
       "AM               1\n",
       "CF&SR            1\n",
       "CFI              1\n",
       "SMod             1\n",
       "SHO              1\n",
       "XL               1\n",
       "WOW              1\n",
       "AZ               1\n",
       "AR               1\n",
       "Super            1\n",
       "TVC              1\n",
       "Asp.             1\n",
       "Aviron           1\n",
       "Trafalgar        1\n",
       "Triu             1\n",
       "SEG              1\n",
       "B360             1\n",
       "U/P              1\n",
       "TAFC             1\n",
       "BGP              1\n",
       "UEP              1\n",
       "TA               1\n",
       "Viv.             1\n",
       "Abk.             1\n",
       "BSC              1\n",
       "KS               1\n",
       "Dreamwest        1\n",
       "CineGalaxy       1\n",
       "ICir             1\n",
       "NM               1\n",
       "Good Deed        1\n",
       "NAV              1\n",
       "Grindstone       1\n",
       "GrtIndia         1\n",
       "HC               1\n",
       "HTR              1\n",
       "MUBI             1\n",
       "MPI              1\n",
       "Cleopatra        1\n",
       "MPFT             1\n",
       "ITL              1\n",
       "MOM              1\n",
       "JBG              1\n",
       "Linn             1\n",
       "KC               1\n",
       "Zee              1\n",
       "KKM              1\n",
       "NYer             1\n",
       "Gaatri           1\n",
       "OMNI/FSR         1\n",
       "Outs             1\n",
       "Crimson          1\n",
       "Rog.             1\n",
       "DF               1\n",
       "Rocket           1\n",
       "RME              1\n",
       "EF               1\n",
       "ELS              1\n",
       "EXCL             1\n",
       "Proud            1\n",
       "EpicPics         1\n",
       "Pala.            1\n",
       "FEF              1\n",
       "FInd.            1\n",
       "PI               1\n",
       "FOAK             1\n",
       "FOR              1\n",
       "First            1\n",
       "3D               1\n",
       "dtype: int64"
      ]
     },
     "execution_count": 65,
     "metadata": {},
     "output_type": "execute_result"
    }
   ],
   "source": [
    "# number of movies per studio\n",
    "data.groupby('studio').size().sort_values(ascending=False)"
   ]
  },
  {
   "cell_type": "markdown",
   "metadata": {},
   "source": [
    "- most producers prefer to partner with the Uni, iFC and Fox studios."
   ]
  },
  {
   "cell_type": "code",
   "execution_count": 67,
   "metadata": {},
   "outputs": [
    {
     "data": {
      "text/plain": [
       "main_genre\n",
       "Sport         7.90\n",
       "Documentary   7.24\n",
       "Music         7.20\n",
       "Biography     6.97\n",
       "Mystery       6.80\n",
       "Animation     6.79\n",
       "Crime         6.66\n",
       "Drama         6.56\n",
       "Adventure     6.53\n",
       "Action        6.28\n",
       "Comedy        6.25\n",
       "Fantasy       6.12\n",
       "Family        6.06\n",
       "Romance       6.06\n",
       "Thriller      5.76\n",
       "Horror        5.43\n",
       "Sci-Fi        5.05\n",
       "Name: averagerating, dtype: float64"
      ]
     },
     "execution_count": 67,
     "metadata": {},
     "output_type": "execute_result"
    }
   ],
   "source": [
    "# view average ratings per genre\n",
    "data.groupby('main_genre').averagerating.mean().sort_values(ascending=False)"
   ]
  },
  {
   "cell_type": "markdown",
   "metadata": {},
   "source": [
    "- sports has the highest average ratings from the viewers. The least average ratings are from the Sci Fi genre."
   ]
  },
  {
   "cell_type": "code",
   "execution_count": 89,
   "metadata": {},
   "outputs": [
    {
     "data": {
      "text/plain": [
       "main_genre\n",
       "Action        115.50\n",
       "Sport         114.00\n",
       "Crime         111.78\n",
       "Biography     111.63\n",
       "Mystery       111.50\n",
       "Romance       110.62\n",
       "Drama         107.59\n",
       "Fantasy       106.62\n",
       "Comedy        105.41\n",
       "Adventure     103.47\n",
       "Thriller       97.17\n",
       "Animation      95.40\n",
       "Horror         93.94\n",
       "Music          93.00\n",
       "Documentary    87.38\n",
       "Family         80.33\n",
       "Sci-Fi         74.50\n",
       "Name: runtime_minutes, dtype: float64"
      ]
     },
     "execution_count": 89,
     "metadata": {},
     "output_type": "execute_result"
    }
   ],
   "source": [
    "# view average run time per genre\n",
    "data.groupby('main_genre').runtime_minutes.mean().sort_values(ascending=False)"
   ]
  },
  {
   "cell_type": "code",
   "execution_count": 74,
   "metadata": {},
   "outputs": [
    {
     "data": {
      "text/plain": [
       "<AxesSubplot:xlabel='averagerating', ylabel='Count'>"
      ]
     },
     "execution_count": 74,
     "metadata": {},
     "output_type": "execute_result"
    },
    {
     "data": {
      "image/png": "[encoded data removed]",
      "text/plain": [
       "<Figure size 432x288 with 1 Axes>"
      ]
     },
     "metadata": {},
     "output_type": "display_data"
    }
   ],
   "source": [
    "# distribution of average rating.\n",
    "sns.histplot(data, x=\"averagerating\")"
   ]
  },
  {
   "cell_type": "code",
   "execution_count": 83,
   "metadata": {},
   "outputs": [
    {
     "data": {
      "text/plain": [
       "<AxesSubplot:xlabel='foreign_gross', ylabel='domestic_gross'>"
      ]
     },
     "execution_count": 83,
     "metadata": {},
     "output_type": "execute_result"
    },
    {
     "data": {
      "image/png": "[encoded data removed]",
      "text/plain": [
       "<Figure size 432x288 with 1 Axes>"
      ]
     },
     "metadata": {},
     "output_type": "display_data"
    }
   ],
   "source": [
    "sns.scatterplot(data = data, x=\"foreign_gross\", y=\"domestic_gross\")"
   ]
  },
  {
   "cell_type": "markdown",
   "metadata": {},
   "source": [
    "- most movies generate the same revenue domestic and foreign."
   ]
  },
  {
   "cell_type": "code",
   "execution_count": 85,
   "metadata": {},
   "outputs": [
    {
     "data": {
      "text/plain": [
       "<AxesSubplot:xlabel='domestic_gross', ylabel='averagerating'>"
      ]
     },
     "execution_count": 85,
     "metadata": {},
     "output_type": "execute_result"
    },
    {
     "data": {
      "image/png": "[encoded data removed]",
      "text/plain": [
       "<Figure size 432x288 with 1 Axes>"
      ]
     },
     "metadata": {},
     "output_type": "display_data"
    }
   ],
   "source": [
    "sns.scatterplot(data = data, y=\"averagerating\", x=\"domestic_gross\")"
   ]
  },
  {
   "cell_type": "markdown",
   "metadata": {},
   "source": [
    "- there is no direct relationship between rating and revenue. Hence, higher ratings do not translate to high revenue."
   ]
  },
  {
   "cell_type": "code",
   "execution_count": 87,
   "metadata": {},
   "outputs": [
    {
     "data": {
      "text/plain": [
       "<AxesSubplot:xlabel='numvotes', ylabel='domestic_gross'>"
      ]
     },
     "execution_count": 87,
     "metadata": {},
     "output_type": "execute_result"
    },
    {
     "data": {
      "image/png": "[encoded data removed]",
      "text/plain": [
       "<Figure size 432x288 with 1 Axes>"
      ]
     },
     "metadata": {},
     "output_type": "display_data"
    }
   ],
   "source": [
    "sns.scatterplot(data = data, x=\"numvotes\", y=\"domestic_gross\")"
   ]
  },
  {
   "cell_type": "markdown",
   "metadata": {},
   "source": [
    "- there is also no direct relationship between number of votes and domestic gross."
   ]
  },
  {
   "cell_type": "code",
   "execution_count": 88,
   "metadata": {},
   "outputs": [
    {
     "data": {
      "text/plain": [
       "<AxesSubplot:xlabel='year', ylabel='domestic_gross'>"
      ]
     },
     "execution_count": 88,
     "metadata": {},
     "output_type": "execute_result"
    },
    {
     "data": {
      "image/png": "[encoded data removed]",
      "text/plain": [
       "<Figure size 432x288 with 1 Axes>"
      ]
     },
     "metadata": {},
     "output_type": "display_data"
    }
   ],
   "source": [
    "sns.lineplot(data= data, x=\"year\", y=\"domestic_gross\")"
   ]
  },
  {
   "cell_type": "markdown",
   "metadata": {},
   "source": [
    "- domestic gross revenue had a deep decline from 2010 to 2012, and then seemed to have peaked in 2013, then flatened between 2014 and 2016, it then increased from 2016 to 2018. "
   ]
  },
  {
   "cell_type": "markdown",
   "metadata": {},
   "source": [
    "### Recommendations\n",
    "- I would recommend Microsoft to start with Sci Fi movie with an average run time of 75 minutes, and partner with BV studio to capitalize on revenue.\n"
   ]
  }
 ],
 "metadata": {
  "kernelspec": {
   "display_name": "Python 3 (ipykernel)",
   "language": "python",
   "name": "python3"
  },
  "language_info": {
   "codemirror_mode": {
    "name": "ipython",
    "version": 3
   },
   "file_extension": ".py",
   "mimetype": "text/x-python",
   "name": "python",
   "nbconvert_exporter": "python",
   "pygments_lexer": "ipython3",
   "version": "3.10.9"
  }
 },
 "nbformat": 4,
 "nbformat_minor": 4
}
